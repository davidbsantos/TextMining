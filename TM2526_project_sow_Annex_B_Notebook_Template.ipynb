{
 "cells": [
  {
   "cell_type": "markdown",
   "metadata": {},
   "source": [
    "<i>## Comments will be provided using this format. Key takeaway: groups are encouraged to change the formatting, but not the structure. Groups are also allowed to create additional notebooks - for instance, create one notebook for data exploration, and one notebook for each preprocessing-modelling-evaluation pipeline -, but must strive to keep an unified style across notebooks.</i>\n",
    "\n",
    "#### NOVA IMS / BSc in Data Science / Text Mining 2025/2026\n",
    "### <b>Group Project: \"Straining the great southern Melting Pot\"</b>\n",
    "#### Notebook `Notebook Title`\n",
    "\n",
    "#### Group:\n",
    "- `Group member #1`\n",
    "- `(...)`\n",
    "- `Group member #5`\n",
    "\n",
    "#### <font color='#BFD72'>Table of Contents </font> <a class=\"anchor\" id='toc'></a> \n",
    "- [1. Data Understanding](#P1)\n",
    "- [2. General Data Preparation](#P2) \n",
    "- [3. Multilabel Classification (Information Requirement 3311)](#P3)\n",
    "    - [3.1 Specific Data Preparation](#P31)\n",
    "    - [3.2 Model Implementation](#P32)\n",
    "    - [3.3 Model Evaluation](#P3n)\n",
    "- [4. Sentiment Analysis (Information Requirement 3312)](#P4)\n",
    "    - [4.1 Specific Data Preparation](#P41)\n",
    "    - [4.2 Model Implementation](#P42)\n",
    "    - [4.3 Model Evaluation](#P43)\n",
    "- [...]\n",
    "- [N. Additional Tasks (Information Requirements 332n)](#Pn)\n",
    "    - [N.1 Specific Data Preparation](#Pn1)\n",
    "    - [N.2 Model Implementation](#Pn2)\n",
    "    - [N.3 Model Evaluation](#Pn3)\n",
    "\n",
    "<i>## Note that the notebook structure differs from the report: instead of following the CRISP-DM phases and then specifying the different problems inside the phases, the notebook is structured by problem, with the CRISP-DM phases being defined for each specific problem."
   ]
  },
  {
   "cell_type": "code",
   "execution_count": 4,
   "metadata": {},
   "outputs": [],
   "source": [
    "## All imports must be concentrated on a cell that immediately follow the table of contents\n",
    "import time"
   ]
  },
  {
   "cell_type": "markdown",
   "metadata": {},
   "source": [
    "<font color='#BFD72F' size=5>1. Data Understanding</font> <a class=\"anchor\" id=\"P1\"></a>\n",
    "  \n",
    "[Back to TOC](#toc)\n",
    "\n",
    "<i>## Use markdown cells to describe the purpose of the code cells that follow them.</i>"
   ]
  },
  {
   "cell_type": "code",
   "execution_count": 5,
   "metadata": {},
   "outputs": [],
   "source": [
    "## Functions must be defined on separate cells\n",
    "def text_mining_project_simulator():\n",
    "    project_progress = 0\n",
    "    while project_progress < 100:\n",
    "        ## Comments on code cells can be used to highlight specific sections of yout code\n",
    "        project_progress += 1\n",
    "        print(\"working, albeit reluctantly, on a project that's {}% done \\n\\n\".format(project_progress))\n",
    "        time.sleep(5)"
   ]
  },
  {
   "cell_type": "code",
   "execution_count": 6,
   "metadata": {},
   "outputs": [
    {
     "name": "stdout",
     "output_type": "stream",
     "text": [
      "working, albeit reluctantly, on a project that's 1% done \n",
      "\n",
      "\n",
      "working, albeit reluctantly, on a project that's 2% done \n",
      "\n",
      "\n",
      "working, albeit reluctantly, on a project that's 3% done \n",
      "\n",
      "\n",
      "working, albeit reluctantly, on a project that's 4% done \n",
      "\n",
      "\n",
      "working, albeit reluctantly, on a project that's 5% done \n",
      "\n",
      "\n",
      "working, albeit reluctantly, on a project that's 6% done \n",
      "\n",
      "\n",
      "working, albeit reluctantly, on a project that's 7% done \n",
      "\n",
      "\n",
      "working, albeit reluctantly, on a project that's 8% done \n",
      "\n",
      "\n",
      "working, albeit reluctantly, on a project that's 9% done \n",
      "\n",
      "\n",
      "working, albeit reluctantly, on a project that's 10% done \n",
      "\n",
      "\n"
     ]
    },
    {
     "ename": "KeyboardInterrupt",
     "evalue": "",
     "output_type": "error",
     "traceback": [
      "\u001b[31m---------------------------------------------------------------------------\u001b[39m",
      "\u001b[31mKeyboardInterrupt\u001b[39m                         Traceback (most recent call last)",
      "\u001b[36mCell\u001b[39m\u001b[36m \u001b[39m\u001b[32mIn[6]\u001b[39m\u001b[32m, line 3\u001b[39m\n\u001b[32m      1\u001b[39m \u001b[38;5;66;03m## Calls to functions (whether defined by the group, or imported from packages) must be separate from their definition\u001b[39;00m\n\u001b[32m----> \u001b[39m\u001b[32m3\u001b[39m \u001b[43mtext_mining_project_simulator\u001b[49m\u001b[43m(\u001b[49m\u001b[43m)\u001b[49m\n",
      "\u001b[36mCell\u001b[39m\u001b[36m \u001b[39m\u001b[32mIn[5]\u001b[39m\u001b[32m, line 8\u001b[39m, in \u001b[36mtext_mining_project_simulator\u001b[39m\u001b[34m()\u001b[39m\n\u001b[32m      6\u001b[39m project_progress += \u001b[32m1\u001b[39m\n\u001b[32m      7\u001b[39m \u001b[38;5;28mprint\u001b[39m(\u001b[33m\"\u001b[39m\u001b[33mworking, albeit reluctantly, on a project that\u001b[39m\u001b[33m'\u001b[39m\u001b[33ms \u001b[39m\u001b[38;5;132;01m{}\u001b[39;00m\u001b[38;5;132;01m% d\u001b[39;00m\u001b[33mone \u001b[39m\u001b[38;5;130;01m\\n\u001b[39;00m\u001b[38;5;130;01m\\n\u001b[39;00m\u001b[33m\"\u001b[39m.format(project_progress))\n\u001b[32m----> \u001b[39m\u001b[32m8\u001b[39m \u001b[43mtime\u001b[49m\u001b[43m.\u001b[49m\u001b[43msleep\u001b[49m\u001b[43m(\u001b[49m\u001b[32;43m5\u001b[39;49m\u001b[43m)\u001b[49m\n",
      "\u001b[31mKeyboardInterrupt\u001b[39m: "
     ]
    }
   ],
   "source": [
    "## Calls to functions (whether defined by the group, or imported from packages) must be separate from their definition\n",
    "\n",
    "text_mining_project_simulator()"
   ]
  },
  {
   "cell_type": "code",
   "execution_count": null,
   "metadata": {},
   "outputs": [],
   "source": []
  }
 ],
 "metadata": {
  "kernelspec": {
   "display_name": "textmining",
   "language": "python",
   "name": "python3"
  },
  "language_info": {
   "codemirror_mode": {
    "name": "ipython",
    "version": 3
   },
   "file_extension": ".py",
   "mimetype": "text/x-python",
   "name": "python",
   "nbconvert_exporter": "python",
   "pygments_lexer": "ipython3",
   "version": "3.13.7"
  }
 },
 "nbformat": 4,
 "nbformat_minor": 2
}
